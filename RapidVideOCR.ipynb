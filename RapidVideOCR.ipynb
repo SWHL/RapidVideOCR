{
  "nbformat": 4,
  "nbformat_minor": 0,
  "metadata": {
    "colab": {
      "name": "RapidVideOCR.ipynb",
      "provenance": [],
      "collapsed_sections": [],
      "mount_file_id": "1AvXwKUZxEb3az5XWlZhC1sAKJO-79Wgh",
      "authorship_tag": "ABX9TyPh7peBILXtS/Ib/+y0Lvwf",
      "include_colab_link": true
    },
    "kernelspec": {
      "name": "python3",
      "display_name": "Python 3"
    },
    "language_info": {
      "name": "python"
    }
  },
  "cells": [
    {
      "cell_type": "markdown",
      "metadata": {
        "id": "view-in-github",
        "colab_type": "text"
      },
      "source": [
        "<a href=\"https://colab.research.google.com/github/SWHL/RapidVideOCR/blob/main/RapidVideOCR.ipynb\" target=\"_parent\"><img src=\"https://colab.research.google.com/assets/colab-badge.svg\" alt=\"Open In Colab\"/></a>"
      ]
    },
    {
      "cell_type": "markdown",
      "source": [
        "\n",
        "# RapidVideOCR Demo\n",
        "\n"
      ],
      "metadata": {
        "id": "tKHLt2zchRwL"
      }
    },
    {
      "cell_type": "markdown",
      "source": [
        "### Set up"
      ],
      "metadata": {
        "id": "mmo4GpZhunh7"
      }
    },
    {
      "cell_type": "code",
      "source": [
        "%rm -r resources/models\n",
        "!wget --no-check-certificate \"https://drive.google.com/uc?export=download&id=14PO7NUxi2XC6Sc_iKrX-E3BLVyaiocyv\" -O models.zip\n",
        "!mv models.zip resources/"
      ],
      "metadata": {
        "id": "qaOdxcrJvHUM"
      },
      "execution_count": null,
      "outputs": []
    },
    {
      "cell_type": "code",
      "source": [
        "%cd resources\n",
        "!unzip models.zip\n",
        "!rm models.zip"
      ],
      "metadata": {
        "colab": {
          "base_uri": "https://localhost:8080/"
        },
        "id": "FzcawYe3valv",
        "outputId": "f66010b0-b613-499c-93a1-c4b7ed09c1b8"
      },
      "execution_count": null,
      "outputs": [
        {
          "output_type": "stream",
          "name": "stdout",
          "text": [
            "/content/RapidVideOCR/resources\n",
            "Archive:  models.zip\n",
            "   creating: models/\n",
            "  inflating: models/ch_mobile_v2.0_rec_infer.onnx  \n",
            "  inflating: models/ch_PP-OCRv2_det_infer.onnx  \n",
            "  inflating: models/ch_ppocr_mobile_v2.0_cls_infer.onnx  \n",
            " extracting: models/placeholder      \n"
          ]
        }
      ]
    },
    {
      "cell_type": "code",
      "source": [
        "%cd ../\n",
        "!ls\n",
        "!pip install -r requirements.txt"
      ],
      "metadata": {
        "colab": {
          "base_uri": "https://localhost:8080/",
          "height": 817
        },
        "id": "aKOo-zaH2WmW",
        "outputId": "052fadb5-5c46-41ed-e12d-b2a4e12de953"
      },
      "execution_count": null,
      "outputs": [
        {
          "output_type": "stream",
          "name": "stdout",
          "text": [
            "/content/RapidVideOCR\n",
            "assets\t    rapidocr\t\trequirements.txt  test_time_demo.py\n",
            "example.py  RapidVideOCR.ipynb\tresources\t  videocr\n",
            "LICENSE     README.md\t\tresult.txt\n",
            "Collecting onnxruntime==1.7.0\n",
            "  Downloading onnxruntime-1.7.0-cp37-cp37m-manylinux2014_x86_64.whl (4.1 MB)\n",
            "\u001b[K     |████████████████████████████████| 4.1 MB 15.6 MB/s \n",
            "\u001b[?25hRequirement already satisfied: six==1.15.0 in /usr/local/lib/python3.7/dist-packages (from -r requirements.txt (line 2)) (1.15.0)\n",
            "Requirement already satisfied: numpy==1.19.5 in /usr/local/lib/python3.7/dist-packages (from -r requirements.txt (line 3)) (1.19.5)\n",
            "Collecting tqdm==4.52.0\n",
            "  Downloading tqdm-4.52.0-py2.py3-none-any.whl (71 kB)\n",
            "\u001b[K     |████████████████████████████████| 71 kB 6.9 MB/s \n",
            "\u001b[?25hCollecting pyclipper==1.2.1\n",
            "  Downloading pyclipper-1.2.1-cp37-cp37m-manylinux1_x86_64.whl (126 kB)\n",
            "\u001b[K     |████████████████████████████████| 126 kB 60.7 MB/s \n",
            "\u001b[?25hCollecting decord==0.6.0\n",
            "  Downloading decord-0.6.0-py3-none-manylinux2010_x86_64.whl (13.6 MB)\n",
            "\u001b[K     |████████████████████████████████| 13.6 MB 20.4 MB/s \n",
            "\u001b[?25hCollecting Shapely==1.7.1\n",
            "  Downloading Shapely-1.7.1-cp37-cp37m-manylinux1_x86_64.whl (1.0 MB)\n",
            "\u001b[K     |████████████████████████████████| 1.0 MB 61.7 MB/s \n",
            "\u001b[?25hCollecting opencv_python==4.5.1.48\n",
            "  Downloading opencv_python-4.5.1.48-cp37-cp37m-manylinux2014_x86_64.whl (50.4 MB)\n",
            "\u001b[K     |████████████████████████████████| 50.4 MB 59 kB/s \n",
            "\u001b[?25hRequirement already satisfied: protobuf in /usr/local/lib/python3.7/dist-packages (from onnxruntime==1.7.0->-r requirements.txt (line 1)) (3.17.3)\n",
            "Installing collected packages: tqdm, Shapely, pyclipper, opencv-python, onnxruntime, decord\n",
            "  Attempting uninstall: tqdm\n",
            "    Found existing installation: tqdm 4.62.3\n",
            "    Uninstalling tqdm-4.62.3:\n",
            "      Successfully uninstalled tqdm-4.62.3\n",
            "  Attempting uninstall: Shapely\n",
            "    Found existing installation: Shapely 1.8.0\n",
            "    Uninstalling Shapely-1.8.0:\n",
            "      Successfully uninstalled Shapely-1.8.0\n",
            "  Attempting uninstall: opencv-python\n",
            "    Found existing installation: opencv-python 4.1.2.30\n",
            "    Uninstalling opencv-python-4.1.2.30:\n",
            "      Successfully uninstalled opencv-python-4.1.2.30\n",
            "\u001b[31mERROR: pip's dependency resolver does not currently take into account all the packages that are installed. This behaviour is the source of the following dependency conflicts.\n",
            "albumentations 0.1.12 requires imgaug<0.2.7,>=0.2.5, but you have imgaug 0.2.9 which is incompatible.\u001b[0m\n",
            "Successfully installed Shapely-1.7.1 decord-0.6.0 onnxruntime-1.7.0 opencv-python-4.5.1.48 pyclipper-1.2.1 tqdm-4.52.0\n"
          ]
        },
        {
          "output_type": "display_data",
          "data": {
            "application/vnd.colab-display-data+json": {
              "pip_warning": {
                "packages": [
                  "tqdm"
                ]
              }
            }
          },
          "metadata": {}
        }
      ]
    },
    {
      "cell_type": "code",
      "source": [
        "!python example.py"
      ],
      "metadata": {
        "id": "wAqFHUMD6X1l",
        "outputId": "e7aaaa73-de36-4252-d320-f0ab2ac567c7",
        "colab": {
          "base_uri": "https://localhost:8080/"
        }
      },
      "execution_count": null,
      "outputs": [
        {
          "output_type": "stream",
          "name": "stdout",
          "text": [
            "Loading assets/1.mp4\n",
            "Get the key point: 100% 303/303 [00:00<00:00, 333.66it/s]\n",
            "Extract content: 100% 4/4 [00:01<00:00,  2.21it/s]\n",
            "['0  00:00:04,458 -> 00:00:08,583 : 我要去杂货店买点东西\\n要我帮你买点牛奶吗？\\nIm going grocery shopping You want some\\nmilk？', \"1  00:00:05,083 -> 00:00:12,583 : 一个还是两个？\\n是两个\\n对吧？\\nOne\\nquartortwo？It'stwo，right？\"]\n"
          ]
        }
      ]
    },
    {
      "cell_type": "code",
      "source": [
        ""
      ],
      "metadata": {
        "id": "i6lPAoIc6ZZQ"
      },
      "execution_count": null,
      "outputs": []
    }
  ]
}