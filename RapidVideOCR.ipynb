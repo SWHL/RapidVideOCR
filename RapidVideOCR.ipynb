{
  "nbformat": 4,
  "nbformat_minor": 0,
  "metadata": {
    "colab": {
      "name": "RapidVideOCR.ipynb",
      "provenance": [],
      "collapsed_sections": [],
      "mount_file_id": "1AvXwKUZxEb3az5XWlZhC1sAKJO-79Wgh",
      "authorship_tag": "ABX9TyO2Z4megcYP53I1YR3xJFnB",
      "include_colab_link": true
    },
    "kernelspec": {
      "name": "python3",
      "display_name": "Python 3"
    },
    "language_info": {
      "name": "python"
    }
  },
  "cells": [
    {
      "cell_type": "markdown",
      "metadata": {
        "id": "view-in-github",
        "colab_type": "text"
      },
      "source": [
        "<a href=\"https://colab.research.google.com/github/SWHL/RapidVideOCR/blob/main/RapidVideOCR.ipynb\" target=\"_parent\"><img src=\"https://colab.research.google.com/assets/colab-badge.svg\" alt=\"Open In Colab\"/></a>"
      ]
    },
    {
      "cell_type": "markdown",
      "source": [
        "\n",
        "# RapidVideOCR Demo\n",
        "\n"
      ],
      "metadata": {
        "id": "tKHLt2zchRwL"
      }
    },
    {
      "cell_type": "markdown",
      "source": [
        "### Set up"
      ],
      "metadata": {
        "id": "mmo4GpZhunh7"
      }
    },
    {
      "cell_type": "code",
      "source": [
        "!git clone https://github.com/SWHL/RapidVideOCR.git\n",
        "%cd RapidVideOCR"
      ],
      "metadata": {
        "id": "_GASq6EAufg0",
        "outputId": "416f44d3-bbe4-4e99-c506-cfc64e5bdee5",
        "colab": {
          "base_uri": "https://localhost:8080/"
        }
      },
      "execution_count": 1,
      "outputs": [
        {
          "output_type": "stream",
          "name": "stdout",
          "text": [
            "Cloning into 'RapidVideOCR'...\n",
            "remote: Enumerating objects: 392, done.\u001b[K\n",
            "remote: Counting objects: 100% (392/392), done.\u001b[K\n",
            "remote: Compressing objects: 100% (310/310), done.\u001b[K\n",
            "remote: Total 392 (delta 213), reused 213 (delta 79), pack-reused 0\u001b[K\n",
            "Receiving objects: 100% (392/392), 8.96 MiB | 16.76 MiB/s, done.\n",
            "Resolving deltas: 100% (213/213), done.\n",
            "/content/RapidVideOCR\n"
          ]
        }
      ]
    },
    {
      "cell_type": "code",
      "source": [
        "%rm -r resources/models\n",
        "!wget --no-check-certificate \"https://drive.google.com/uc?export=download&id=14PO7NUxi2XC6Sc_iKrX-E3BLVyaiocyv\" -O models.zip\n",
        "!mv models.zip resources/"
      ],
      "metadata": {
        "id": "qaOdxcrJvHUM",
        "outputId": "6a00a270-ee98-4d3f-e63e-06b42ac37b27",
        "colab": {
          "base_uri": "https://localhost:8080/"
        }
      },
      "execution_count": 2,
      "outputs": [
        {
          "output_type": "stream",
          "name": "stdout",
          "text": [
            "--2021-12-14 00:59:11--  https://drive.google.com/uc?export=download&id=14PO7NUxi2XC6Sc_iKrX-E3BLVyaiocyv\n",
            "Resolving drive.google.com (drive.google.com)... 74.125.195.139, 74.125.195.113, 74.125.195.102, ...\n",
            "Connecting to drive.google.com (drive.google.com)|74.125.195.139|:443... connected.\n",
            "HTTP request sent, awaiting response... 302 Moved Temporarily\n",
            "Location: https://doc-04-3s-docs.googleusercontent.com/docs/securesc/ha0ro937gcuc7l7deffksulhg5h7mbp1/p0h262cra5avn2nu7rb60bhj4qtq0smf/1639443525000/10158993189489619361/*/14PO7NUxi2XC6Sc_iKrX-E3BLVyaiocyv?e=download [following]\n",
            "Warning: wildcards not supported in HTTP.\n",
            "--2021-12-14 00:59:12--  https://doc-04-3s-docs.googleusercontent.com/docs/securesc/ha0ro937gcuc7l7deffksulhg5h7mbp1/p0h262cra5avn2nu7rb60bhj4qtq0smf/1639443525000/10158993189489619361/*/14PO7NUxi2XC6Sc_iKrX-E3BLVyaiocyv?e=download\n",
            "Resolving doc-04-3s-docs.googleusercontent.com (doc-04-3s-docs.googleusercontent.com)... 74.125.142.132, 2607:f8b0:400e:c08::84\n",
            "Connecting to doc-04-3s-docs.googleusercontent.com (doc-04-3s-docs.googleusercontent.com)|74.125.142.132|:443... connected.\n",
            "HTTP request sent, awaiting response... 200 OK\n",
            "Length: 6539740 (6.2M) [application/x-zip-compressed]\n",
            "Saving to: ‘models.zip’\n",
            "\n",
            "models.zip          100%[===================>]   6.24M  --.-KB/s    in 0.1s    \n",
            "\n",
            "2021-12-14 00:59:13 (48.9 MB/s) - ‘models.zip’ saved [6539740/6539740]\n",
            "\n"
          ]
        }
      ]
    },
    {
      "cell_type": "code",
      "source": [
        "!unzip resources/models.zip\n",
        "!rm resources/models.zip\n",
        "!mv models resources/"
      ],
      "metadata": {
        "colab": {
          "base_uri": "https://localhost:8080/"
        },
        "id": "FzcawYe3valv",
        "outputId": "d6c01350-0693-490f-83c2-e61d0540ab97"
      },
      "execution_count": 3,
      "outputs": [
        {
          "output_type": "stream",
          "name": "stdout",
          "text": [
            "Archive:  resources/models.zip\n",
            "   creating: models/\n",
            "  inflating: models/ch_mobile_v2.0_rec_infer.onnx  \n",
            "  inflating: models/ch_PP-OCRv2_det_infer.onnx  \n",
            "  inflating: models/ch_ppocr_mobile_v2.0_cls_infer.onnx  \n",
            " extracting: models/placeholder      \n"
          ]
        }
      ]
    },
    {
      "cell_type": "code",
      "source": [
        "!pip install -r requirements.txt"
      ],
      "metadata": {
        "colab": {
          "base_uri": "https://localhost:8080/"
        },
        "id": "aKOo-zaH2WmW",
        "outputId": "f61abb59-5f5b-4898-eea3-09e9978e646e"
      },
      "execution_count": 4,
      "outputs": [
        {
          "output_type": "stream",
          "name": "stdout",
          "text": [
            "Collecting onnxruntime==1.7.0\n",
            "  Downloading onnxruntime-1.7.0-cp37-cp37m-manylinux2014_x86_64.whl (4.1 MB)\n",
            "\u001b[K     |████████████████████████████████| 4.1 MB 10.6 MB/s \n",
            "\u001b[?25hRequirement already satisfied: six==1.15.0 in /usr/local/lib/python3.7/dist-packages (from -r requirements.txt (line 2)) (1.15.0)\n",
            "Requirement already satisfied: numpy==1.19.5 in /usr/local/lib/python3.7/dist-packages (from -r requirements.txt (line 3)) (1.19.5)\n",
            "Collecting tqdm==4.52.0\n",
            "  Downloading tqdm-4.52.0-py2.py3-none-any.whl (71 kB)\n",
            "\u001b[K     |████████████████████████████████| 71 kB 8.8 MB/s \n",
            "\u001b[?25hCollecting pyclipper==1.2.1\n",
            "  Downloading pyclipper-1.2.1-cp37-cp37m-manylinux1_x86_64.whl (126 kB)\n",
            "\u001b[K     |████████████████████████████████| 126 kB 58.1 MB/s \n",
            "\u001b[?25hCollecting decord==0.6.0\n",
            "  Downloading decord-0.6.0-py3-none-manylinux2010_x86_64.whl (13.6 MB)\n",
            "\u001b[K     |████████████████████████████████| 13.6 MB 48.2 MB/s \n",
            "\u001b[?25hCollecting Shapely==1.7.1\n",
            "  Downloading Shapely-1.7.1-cp37-cp37m-manylinux1_x86_64.whl (1.0 MB)\n",
            "\u001b[K     |████████████████████████████████| 1.0 MB 45.0 MB/s \n",
            "\u001b[?25hCollecting opencv_python==4.5.1.48\n",
            "  Downloading opencv_python-4.5.1.48-cp37-cp37m-manylinux2014_x86_64.whl (50.4 MB)\n",
            "\u001b[K     |████████████████████████████████| 50.4 MB 1.4 MB/s \n",
            "\u001b[?25hCollecting python-docx==0.8.10\n",
            "  Downloading python-docx-0.8.10.tar.gz (5.5 MB)\n",
            "\u001b[K     |████████████████████████████████| 5.5 MB 50.9 MB/s \n",
            "\u001b[?25hRequirement already satisfied: protobuf in /usr/local/lib/python3.7/dist-packages (from onnxruntime==1.7.0->-r requirements.txt (line 1)) (3.17.3)\n",
            "Requirement already satisfied: lxml>=2.3.2 in /usr/local/lib/python3.7/dist-packages (from python-docx==0.8.10->-r requirements.txt (line 9)) (4.2.6)\n",
            "Building wheels for collected packages: python-docx\n",
            "  Building wheel for python-docx (setup.py) ... \u001b[?25l\u001b[?25hdone\n",
            "  Created wheel for python-docx: filename=python_docx-0.8.10-py3-none-any.whl size=184397 sha256=a4018c7208a30f8870adf99199bb6638e6733f4c4f2fbead0e87c4a2e2abc5c2\n",
            "  Stored in directory: /root/.cache/pip/wheels/75/c6/69/05491f32dc052cd70476b65f5bf7082a9b274045f6b001b821\n",
            "Successfully built python-docx\n",
            "Installing collected packages: tqdm, Shapely, python-docx, pyclipper, opencv-python, onnxruntime, decord\n",
            "  Attempting uninstall: tqdm\n",
            "    Found existing installation: tqdm 4.62.3\n",
            "    Uninstalling tqdm-4.62.3:\n",
            "      Successfully uninstalled tqdm-4.62.3\n",
            "  Attempting uninstall: Shapely\n",
            "    Found existing installation: Shapely 1.8.0\n",
            "    Uninstalling Shapely-1.8.0:\n",
            "      Successfully uninstalled Shapely-1.8.0\n",
            "  Attempting uninstall: opencv-python\n",
            "    Found existing installation: opencv-python 4.1.2.30\n",
            "    Uninstalling opencv-python-4.1.2.30:\n",
            "      Successfully uninstalled opencv-python-4.1.2.30\n",
            "\u001b[31mERROR: pip's dependency resolver does not currently take into account all the packages that are installed. This behaviour is the source of the following dependency conflicts.\n",
            "albumentations 0.1.12 requires imgaug<0.2.7,>=0.2.5, but you have imgaug 0.2.9 which is incompatible.\u001b[0m\n",
            "Successfully installed Shapely-1.7.1 decord-0.6.0 onnxruntime-1.7.0 opencv-python-4.5.1.48 pyclipper-1.2.1 python-docx-0.8.10 tqdm-4.52.0\n"
          ]
        }
      ]
    },
    {
      "cell_type": "markdown",
      "source": [
        "### Run the demo"
      ],
      "metadata": {
        "id": "2CKQ63hC_FKN"
      }
    },
    {
      "cell_type": "code",
      "source": [
        "!python main.py"
      ],
      "metadata": {
        "id": "wAqFHUMD6X1l",
        "outputId": "e3197778-18a0-481e-8b81-1022a8a7ba4d",
        "colab": {
          "base_uri": "https://localhost:8080/"
        }
      },
      "execution_count": 5,
      "outputs": [
        {
          "output_type": "stream",
          "name": "stdout",
          "text": [
            "Loading assets/test_video/2.mp4\n",
            "Get the key frame: 100% 71/71 [00:02<00:00, 23.88it/s]\n",
            "Extract content: 100% 4/4 [00:03<00:00,  1.13it/s]\n",
            "The srt has been saved in the assets/test_video/2.srt.\n",
            "The txt has been saved in the assets/test_video/2.txt.\n",
            "The docx has been saved in the assets/test_video/2.docx.\n",
            "elapse: 7.1962175369262695s\n"
          ]
        }
      ]
    },
    {
      "cell_type": "code",
      "source": [
        "import time\n",
        "\n",
        "from rapid_videocr import get_subtitles\n",
        "from rapidocr import TextSystem"
      ],
      "metadata": {
        "id": "8scd9sb5dE5d"
      },
      "execution_count": 6,
      "outputs": []
    },
    {
      "cell_type": "code",
      "source": [
        "det_model_path = \"resources/models/ch_PP-OCRv2_det_infer.onnx\"\n",
        "cls_model_path = \"resources/models/ch_ppocr_mobile_v2.0_cls_infer.onnx\"\n",
        "rec_model_path = \"resources/models/ch_mobile_v2.0_rec_infer.onnx\"\n",
        "dict_path = \"resources/ppocr_keys_v1.txt\""
      ],
      "metadata": {
        "id": "HTj_uDipdHIo"
      },
      "execution_count": 7,
      "outputs": []
    },
    {
      "cell_type": "code",
      "source": [
        "s = time.time()\n",
        "\n",
        "ocr_system = TextSystem(det_model_path, rec_model_path, cls_model_path, dict_path)\n",
        "\n",
        "batch_size = 100\n",
        "subtitle_height = 100\n",
        "error_num = 0.01\n",
        "mp4_path = 'assets/test_video/2.mp4'\n",
        "output_format = 'all'  # txt, srt, docx, all\n",
        "\n",
        "time_start = '00:00:00'\n",
        "time_end = '-1'\n",
        "\n",
        "result = get_subtitles(mp4_path,\n",
        "            ocr_system,\n",
        "            batch_size,\n",
        "            subtitle_height,\n",
        "            time_start=time_start,\n",
        "            time_end=time_end,\n",
        "            error_num=error_num,\n",
        "            output_format=output_format)\n",
        "print(f'elapse: {time.time() - s}s')"
      ],
      "metadata": {
        "colab": {
          "base_uri": "https://localhost:8080/"
        },
        "id": "jBA8xjgGdItS",
        "outputId": "3d469625-92c5-4fa5-ad74-8b01fa4fce10"
      },
      "execution_count": 8,
      "outputs": [
        {
          "output_type": "stream",
          "name": "stderr",
          "text": [
            "\rGet the key frame:   0%|          | 0/71 [00:00<?, ?it/s]"
          ]
        },
        {
          "output_type": "stream",
          "name": "stdout",
          "text": [
            "Loading assets/test_video/2.mp4\n"
          ]
        },
        {
          "output_type": "stream",
          "name": "stderr",
          "text": [
            "Get the key frame: 100%|██████████| 71/71 [00:02<00:00, 26.21it/s]\n",
            "Extract content: 100%|██████████| 4/4 [00:02<00:00,  1.35it/s]\n"
          ]
        },
        {
          "output_type": "stream",
          "name": "stdout",
          "text": [
            "The srt has been saved in the assets/test_video/2.srt.\n",
            "The txt has been saved in the assets/test_video/2.txt.\n",
            "The docx has been saved in the assets/test_video/2.docx.\n",
            "elapse: 6.441474437713623s\n"
          ]
        }
      ]
    }
  ]
}