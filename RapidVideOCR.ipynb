{
  "nbformat": 4,
  "nbformat_minor": 0,
  "metadata": {
    "colab": {
      "name": "RapidVideOCR.ipynb",
      "provenance": [],
      "collapsed_sections": [],
      "mount_file_id": "1AvXwKUZxEb3az5XWlZhC1sAKJO-79Wgh",
      "authorship_tag": "ABX9TyMm+cLSg5c/Ivjfjxy5XX4O",
      "include_colab_link": true
    },
    "kernelspec": {
      "name": "python3",
      "display_name": "Python 3"
    },
    "language_info": {
      "name": "python"
    }
  },
  "cells": [
    {
      "cell_type": "markdown",
      "metadata": {
        "id": "view-in-github",
        "colab_type": "text"
      },
      "source": [
        "<a href=\"https://colab.research.google.com/github/SWHL/RapidVideOCR/blob/main/RapidVideOCR.ipynb\" target=\"_parent\"><img src=\"https://colab.research.google.com/assets/colab-badge.svg\" alt=\"Open In Colab\"/></a>"
      ]
    },
    {
      "cell_type": "markdown",
      "source": [
        "\n",
        "# RapidVideOCR Demo\n",
        "\n"
      ],
      "metadata": {
        "id": "tKHLt2zchRwL"
      }
    },
    {
      "cell_type": "markdown",
      "source": [
        "### Set up"
      ],
      "metadata": {
        "id": "mmo4GpZhunh7"
      }
    },
    {
      "cell_type": "code",
      "source": [
        "rm -r sample_data/\n",
        "!git clone https://github.com/SWHL/RapidVideOCR.git"
      ],
      "metadata": {
        "id": "_GASq6EAufg0"
      },
      "execution_count": 2,
      "outputs": []
    },
    {
      "cell_type": "code",
      "source": [
        "%cd RapidVideOCR\n"
      ],
      "metadata": {
        "colab": {
          "base_uri": "https://localhost:8080/"
        },
        "id": "JQ1GI8UNq6d-",
        "outputId": "25c51d45-2e6a-413d-f3c0-71affd2c4351"
      },
      "execution_count": 11,
      "outputs": [
        {
          "output_type": "stream",
          "name": "stdout",
          "text": [
            "[Errno 2] No such file or directory: 'RapidVideOCR'\n",
            "/content/RapidVideOCR\n",
            "rm: cannot remove 'resources/models': Is a directory\n"
          ]
        }
      ]
    },
    {
      "cell_type": "code",
      "source": [
        "%rm -r resources/models"
      ],
      "metadata": {
        "id": "qaOdxcrJvHUM"
      },
      "execution_count": 12,
      "outputs": []
    },
    {
      "cell_type": "code",
      "source": [
        "!wget --no-check-certificate \"https://drive.google.com/uc?export=download&id=14PO7NUxi2XC6Sc_iKrX-E3BLVyaiocyv\" -O models.zip\n",
        "!mv models.zip resources/"
      ],
      "metadata": {
        "colab": {
          "base_uri": "https://localhost:8080/"
        },
        "id": "lymQIObzsLll",
        "outputId": "8718ceb2-403b-4cc9-dd6f-a401ff3163b3"
      },
      "execution_count": 20,
      "outputs": [
        {
          "output_type": "stream",
          "name": "stdout",
          "text": [
            "--2021-12-09 01:28:41--  https://drive.google.com/uc?export=download&id=14PO7NUxi2XC6Sc_iKrX-E3BLVyaiocyv\n",
            "Resolving drive.google.com (drive.google.com)... 142.250.145.100, 142.250.145.101, 142.250.145.139, ...\n",
            "Connecting to drive.google.com (drive.google.com)|142.250.145.100|:443... connected.\n",
            "HTTP request sent, awaiting response... 302 Moved Temporarily\n",
            "Location: https://doc-04-3s-docs.googleusercontent.com/docs/securesc/ha0ro937gcuc7l7deffksulhg5h7mbp1/dq2c9t04f2e5gidg2rvmmq8olff1hbd0/1639013250000/10158993189489619361/*/14PO7NUxi2XC6Sc_iKrX-E3BLVyaiocyv?e=download [following]\n",
            "Warning: wildcards not supported in HTTP.\n",
            "--2021-12-09 01:28:42--  https://doc-04-3s-docs.googleusercontent.com/docs/securesc/ha0ro937gcuc7l7deffksulhg5h7mbp1/dq2c9t04f2e5gidg2rvmmq8olff1hbd0/1639013250000/10158993189489619361/*/14PO7NUxi2XC6Sc_iKrX-E3BLVyaiocyv?e=download\n",
            "Resolving doc-04-3s-docs.googleusercontent.com (doc-04-3s-docs.googleusercontent.com)... 108.177.127.132, 2a00:1450:4013:c07::84\n",
            "Connecting to doc-04-3s-docs.googleusercontent.com (doc-04-3s-docs.googleusercontent.com)|108.177.127.132|:443... connected.\n",
            "HTTP request sent, awaiting response... 200 OK\n",
            "Length: 6539740 (6.2M) [application/x-zip-compressed]\n",
            "Saving to: ‘models.zip’\n",
            "\n",
            "models.zip          100%[===================>]   6.24M  --.-KB/s    in 0.03s   \n",
            "\n",
            "2021-12-09 01:28:42 (229 MB/s) - ‘models.zip’ saved [6539740/6539740]\n",
            "\n",
            "unzip:  cannot find or open models.zip, models.zip.zip or models.zip.ZIP.\n"
          ]
        }
      ]
    },
    {
      "cell_type": "code",
      "source": [
        "%cd resources\n",
        "!unzip models.zip\n",
        "!rm models.zip"
      ],
      "metadata": {
        "colab": {
          "base_uri": "https://localhost:8080/"
        },
        "id": "FzcawYe3valv",
        "outputId": "f66010b0-b613-499c-93a1-c4b7ed09c1b8"
      },
      "execution_count": 21,
      "outputs": [
        {
          "output_type": "stream",
          "name": "stdout",
          "text": [
            "/content/RapidVideOCR/resources\n",
            "Archive:  models.zip\n",
            "   creating: models/\n",
            "  inflating: models/ch_mobile_v2.0_rec_infer.onnx  \n",
            "  inflating: models/ch_PP-OCRv2_det_infer.onnx  \n",
            "  inflating: models/ch_ppocr_mobile_v2.0_cls_infer.onnx  \n",
            " extracting: models/placeholder      \n"
          ]
        }
      ]
    },
    {
      "cell_type": "code",
      "source": [
        "%cd ../\n",
        "!ls\n",
        "!pip install -r requirements.txt"
      ],
      "metadata": {
        "colab": {
          "base_uri": "https://localhost:8080/",
          "height": 817
        },
        "id": "aKOo-zaH2WmW",
        "outputId": "052fadb5-5c46-41ed-e12d-b2a4e12de953"
      },
      "execution_count": 26,
      "outputs": [
        {
          "output_type": "stream",
          "name": "stdout",
          "text": [
            "/content/RapidVideOCR\n",
            "assets\t    rapidocr\t\trequirements.txt  test_time_demo.py\n",
            "example.py  RapidVideOCR.ipynb\tresources\t  videocr\n",
            "LICENSE     README.md\t\tresult.txt\n",
            "Collecting onnxruntime==1.7.0\n",
            "  Downloading onnxruntime-1.7.0-cp37-cp37m-manylinux2014_x86_64.whl (4.1 MB)\n",
            "\u001b[K     |████████████████████████████████| 4.1 MB 15.6 MB/s \n",
            "\u001b[?25hRequirement already satisfied: six==1.15.0 in /usr/local/lib/python3.7/dist-packages (from -r requirements.txt (line 2)) (1.15.0)\n",
            "Requirement already satisfied: numpy==1.19.5 in /usr/local/lib/python3.7/dist-packages (from -r requirements.txt (line 3)) (1.19.5)\n",
            "Collecting tqdm==4.52.0\n",
            "  Downloading tqdm-4.52.0-py2.py3-none-any.whl (71 kB)\n",
            "\u001b[K     |████████████████████████████████| 71 kB 6.9 MB/s \n",
            "\u001b[?25hCollecting pyclipper==1.2.1\n",
            "  Downloading pyclipper-1.2.1-cp37-cp37m-manylinux1_x86_64.whl (126 kB)\n",
            "\u001b[K     |████████████████████████████████| 126 kB 60.7 MB/s \n",
            "\u001b[?25hCollecting decord==0.6.0\n",
            "  Downloading decord-0.6.0-py3-none-manylinux2010_x86_64.whl (13.6 MB)\n",
            "\u001b[K     |████████████████████████████████| 13.6 MB 20.4 MB/s \n",
            "\u001b[?25hCollecting Shapely==1.7.1\n",
            "  Downloading Shapely-1.7.1-cp37-cp37m-manylinux1_x86_64.whl (1.0 MB)\n",
            "\u001b[K     |████████████████████████████████| 1.0 MB 61.7 MB/s \n",
            "\u001b[?25hCollecting opencv_python==4.5.1.48\n",
            "  Downloading opencv_python-4.5.1.48-cp37-cp37m-manylinux2014_x86_64.whl (50.4 MB)\n",
            "\u001b[K     |████████████████████████████████| 50.4 MB 59 kB/s \n",
            "\u001b[?25hRequirement already satisfied: protobuf in /usr/local/lib/python3.7/dist-packages (from onnxruntime==1.7.0->-r requirements.txt (line 1)) (3.17.3)\n",
            "Installing collected packages: tqdm, Shapely, pyclipper, opencv-python, onnxruntime, decord\n",
            "  Attempting uninstall: tqdm\n",
            "    Found existing installation: tqdm 4.62.3\n",
            "    Uninstalling tqdm-4.62.3:\n",
            "      Successfully uninstalled tqdm-4.62.3\n",
            "  Attempting uninstall: Shapely\n",
            "    Found existing installation: Shapely 1.8.0\n",
            "    Uninstalling Shapely-1.8.0:\n",
            "      Successfully uninstalled Shapely-1.8.0\n",
            "  Attempting uninstall: opencv-python\n",
            "    Found existing installation: opencv-python 4.1.2.30\n",
            "    Uninstalling opencv-python-4.1.2.30:\n",
            "      Successfully uninstalled opencv-python-4.1.2.30\n",
            "\u001b[31mERROR: pip's dependency resolver does not currently take into account all the packages that are installed. This behaviour is the source of the following dependency conflicts.\n",
            "albumentations 0.1.12 requires imgaug<0.2.7,>=0.2.5, but you have imgaug 0.2.9 which is incompatible.\u001b[0m\n",
            "Successfully installed Shapely-1.7.1 decord-0.6.0 onnxruntime-1.7.0 opencv-python-4.5.1.48 pyclipper-1.2.1 tqdm-4.52.0\n"
          ]
        },
        {
          "output_type": "display_data",
          "data": {
            "application/vnd.colab-display-data+json": {
              "pip_warning": {
                "packages": [
                  "tqdm"
                ]
              }
            }
          },
          "metadata": {}
        }
      ]
    },
    {
      "cell_type": "code",
      "source": [
        ""
      ],
      "metadata": {
        "id": "tsKB3PSp2NAi"
      },
      "execution_count": null,
      "outputs": []
    }
  ]
}