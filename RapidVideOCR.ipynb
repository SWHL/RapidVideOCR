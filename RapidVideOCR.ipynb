{
  "nbformat": 4,
  "nbformat_minor": 0,
  "metadata": {
    "colab": {
      "name": "RapidVideOCR.ipynb",
      "provenance": [],
      "collapsed_sections": [],
      "mount_file_id": "1AvXwKUZxEb3az5XWlZhC1sAKJO-79Wgh",
      "authorship_tag": "ABX9TyP/glMwYhSP66uceLRTGDkD",
      "include_colab_link": true
    },
    "kernelspec": {
      "name": "python3",
      "display_name": "Python 3"
    },
    "language_info": {
      "name": "python"
    }
  },
  "cells": [
    {
      "cell_type": "markdown",
      "metadata": {
        "id": "view-in-github",
        "colab_type": "text"
      },
      "source": [
        "<a href=\"https://colab.research.google.com/github/SWHL/RapidVideOCR/blob/main/RapidVideOCR.ipynb\" target=\"_parent\"><img src=\"https://colab.research.google.com/assets/colab-badge.svg\" alt=\"Open In Colab\"/></a>"
      ]
    },
    {
      "cell_type": "markdown",
      "source": [
        "\n",
        "# RapidVideOCR Demo\n",
        "\n"
      ],
      "metadata": {
        "id": "tKHLt2zchRwL"
      }
    },
    {
      "cell_type": "markdown",
      "source": [
        "### Set up"
      ],
      "metadata": {
        "id": "mmo4GpZhunh7"
      }
    },
    {
      "cell_type": "code",
      "source": [
        "!git clone https://github.com/SWHL/RapidVideOCR.git\n",
        "%cd RapidVideOCR"
      ],
      "metadata": {
        "id": "_GASq6EAufg0",
        "outputId": "b1898ce4-7b9e-4643-b36c-b5445a05c9ea",
        "colab": {
          "base_uri": "https://localhost:8080/"
        }
      },
      "execution_count": 1,
      "outputs": [
        {
          "output_type": "stream",
          "name": "stdout",
          "text": [
            "Cloning into 'RapidVideOCR'...\n",
            "remote: Enumerating objects: 255, done.\u001b[K\n",
            "remote: Counting objects: 100% (255/255), done.\u001b[K\n",
            "remote: Compressing objects: 100% (206/206), done.\u001b[K\n",
            "remote: Total 255 (delta 131), reused 144 (delta 46), pack-reused 0\u001b[K\n",
            "Receiving objects: 100% (255/255), 6.64 MiB | 40.98 MiB/s, done.\n",
            "Resolving deltas: 100% (131/131), done.\n",
            "/content/RapidVideOCR\n"
          ]
        }
      ]
    },
    {
      "cell_type": "code",
      "source": [
        "%rm -r resources/models\n",
        "!wget --no-check-certificate \"https://drive.google.com/uc?export=download&id=14PO7NUxi2XC6Sc_iKrX-E3BLVyaiocyv\" -O models.zip\n",
        "!mv models.zip resources/"
      ],
      "metadata": {
        "id": "qaOdxcrJvHUM",
        "outputId": "66095a40-e720-4997-cb8d-91c8ca246279",
        "colab": {
          "base_uri": "https://localhost:8080/"
        }
      },
      "execution_count": 2,
      "outputs": [
        {
          "output_type": "stream",
          "name": "stdout",
          "text": [
            "--2021-12-09 03:29:57--  https://drive.google.com/uc?export=download&id=14PO7NUxi2XC6Sc_iKrX-E3BLVyaiocyv\n",
            "Resolving drive.google.com (drive.google.com)... 142.250.188.206, 2607:f8b0:4004:836::200e\n",
            "Connecting to drive.google.com (drive.google.com)|142.250.188.206|:443... connected.\n",
            "HTTP request sent, awaiting response... 302 Moved Temporarily\n",
            "Location: https://doc-04-3s-docs.googleusercontent.com/docs/securesc/ha0ro937gcuc7l7deffksulhg5h7mbp1/cbs7cvak4ha5p5rlsmdl0ib1d7tvk14l/1639020525000/10158993189489619361/*/14PO7NUxi2XC6Sc_iKrX-E3BLVyaiocyv?e=download [following]\n",
            "Warning: wildcards not supported in HTTP.\n",
            "--2021-12-09 03:29:59--  https://doc-04-3s-docs.googleusercontent.com/docs/securesc/ha0ro937gcuc7l7deffksulhg5h7mbp1/cbs7cvak4ha5p5rlsmdl0ib1d7tvk14l/1639020525000/10158993189489619361/*/14PO7NUxi2XC6Sc_iKrX-E3BLVyaiocyv?e=download\n",
            "Resolving doc-04-3s-docs.googleusercontent.com (doc-04-3s-docs.googleusercontent.com)... 172.217.15.97, 2607:f8b0:4004:811::2001\n",
            "Connecting to doc-04-3s-docs.googleusercontent.com (doc-04-3s-docs.googleusercontent.com)|172.217.15.97|:443... connected.\n",
            "HTTP request sent, awaiting response... 200 OK\n",
            "Length: 6539740 (6.2M) [application/x-zip-compressed]\n",
            "Saving to: ‘models.zip’\n",
            "\n",
            "models.zip          100%[===================>]   6.24M  --.-KB/s    in 0.08s   \n",
            "\n",
            "2021-12-09 03:29:59 (77.4 MB/s) - ‘models.zip’ saved [6539740/6539740]\n",
            "\n"
          ]
        }
      ]
    },
    {
      "cell_type": "code",
      "source": [
        "!unzip resources/models.zip\n",
        "!rm resources/models.zip\n",
        "!mv models resources/"
      ],
      "metadata": {
        "colab": {
          "base_uri": "https://localhost:8080/"
        },
        "id": "FzcawYe3valv",
        "outputId": "f32e3da7-a812-4536-b885-514d39e5afcf"
      },
      "execution_count": 7,
      "outputs": [
        {
          "output_type": "stream",
          "name": "stdout",
          "text": [
            "unzip:  cannot find or open resources/models.zip, resources/models.zip.zip or resources/models.zip.ZIP.\n",
            "rm: cannot remove 'resources/models.zip': No such file or directory\n"
          ]
        }
      ]
    },
    {
      "cell_type": "code",
      "source": [
        "!pip install -r requirements.txt"
      ],
      "metadata": {
        "colab": {
          "base_uri": "https://localhost:8080/"
        },
        "id": "aKOo-zaH2WmW",
        "outputId": "498183bd-552c-4ca4-bd12-a24e1b2db5b2"
      },
      "execution_count": 4,
      "outputs": [
        {
          "output_type": "stream",
          "name": "stdout",
          "text": [
            "Collecting onnxruntime==1.7.0\n",
            "  Downloading onnxruntime-1.7.0-cp37-cp37m-manylinux2014_x86_64.whl (4.1 MB)\n",
            "\u001b[K     |████████████████████████████████| 4.1 MB 29.5 MB/s \n",
            "\u001b[?25hRequirement already satisfied: six==1.15.0 in /usr/local/lib/python3.7/dist-packages (from -r requirements.txt (line 2)) (1.15.0)\n",
            "Requirement already satisfied: numpy==1.19.5 in /usr/local/lib/python3.7/dist-packages (from -r requirements.txt (line 3)) (1.19.5)\n",
            "Collecting tqdm==4.52.0\n",
            "  Downloading tqdm-4.52.0-py2.py3-none-any.whl (71 kB)\n",
            "\u001b[K     |████████████████████████████████| 71 kB 8.5 MB/s \n",
            "\u001b[?25hCollecting pyclipper==1.2.1\n",
            "  Downloading pyclipper-1.2.1-cp37-cp37m-manylinux1_x86_64.whl (126 kB)\n",
            "\u001b[K     |████████████████████████████████| 126 kB 56.5 MB/s \n",
            "\u001b[?25hCollecting decord==0.6.0\n",
            "  Downloading decord-0.6.0-py3-none-manylinux2010_x86_64.whl (13.6 MB)\n",
            "\u001b[K     |████████████████████████████████| 13.6 MB 66.4 MB/s \n",
            "\u001b[?25hCollecting Shapely==1.7.1\n",
            "  Downloading Shapely-1.7.1-cp37-cp37m-manylinux1_x86_64.whl (1.0 MB)\n",
            "\u001b[K     |████████████████████████████████| 1.0 MB 38.6 MB/s \n",
            "\u001b[?25hCollecting opencv_python==4.5.1.48\n",
            "  Downloading opencv_python-4.5.1.48-cp37-cp37m-manylinux2014_x86_64.whl (50.4 MB)\n",
            "\u001b[K     |████████████████████████████████| 50.4 MB 44 kB/s \n",
            "\u001b[?25hRequirement already satisfied: protobuf in /usr/local/lib/python3.7/dist-packages (from onnxruntime==1.7.0->-r requirements.txt (line 1)) (3.17.3)\n",
            "Installing collected packages: tqdm, Shapely, pyclipper, opencv-python, onnxruntime, decord\n",
            "  Attempting uninstall: tqdm\n",
            "    Found existing installation: tqdm 4.62.3\n",
            "    Uninstalling tqdm-4.62.3:\n",
            "      Successfully uninstalled tqdm-4.62.3\n",
            "  Attempting uninstall: Shapely\n",
            "    Found existing installation: Shapely 1.8.0\n",
            "    Uninstalling Shapely-1.8.0:\n",
            "      Successfully uninstalled Shapely-1.8.0\n",
            "  Attempting uninstall: opencv-python\n",
            "    Found existing installation: opencv-python 4.1.2.30\n",
            "    Uninstalling opencv-python-4.1.2.30:\n",
            "      Successfully uninstalled opencv-python-4.1.2.30\n",
            "\u001b[31mERROR: pip's dependency resolver does not currently take into account all the packages that are installed. This behaviour is the source of the following dependency conflicts.\n",
            "albumentations 0.1.12 requires imgaug<0.2.7,>=0.2.5, but you have imgaug 0.2.9 which is incompatible.\u001b[0m\n",
            "Successfully installed Shapely-1.7.1 decord-0.6.0 onnxruntime-1.7.0 opencv-python-4.5.1.48 pyclipper-1.2.1 tqdm-4.52.0\n"
          ]
        }
      ]
    },
    {
      "cell_type": "markdown",
      "source": [
        "### Run the demo"
      ],
      "metadata": {
        "id": "2CKQ63hC_FKN"
      }
    },
    {
      "cell_type": "code",
      "source": [
        "ls"
      ],
      "metadata": {
        "id": "5pvWzCoCPsbY",
        "outputId": "ea63f7fb-392d-46b5-c3fb-cf0b6182c8af",
        "colab": {
          "base_uri": "https://localhost:8080/"
        }
      },
      "execution_count": 6,
      "outputs": [
        {
          "output_type": "stream",
          "name": "stdout",
          "text": [
            "\u001b[0m\u001b[01;34massets\u001b[0m/     \u001b[01;34mmodels\u001b[0m/             README.md         result.txt\n",
            "example.py  \u001b[01;34mrapidocr\u001b[0m/           requirements.txt  test_time_demo.py\n",
            "LICENSE     RapidVideOCR.ipynb  \u001b[01;34mresources\u001b[0m/        \u001b[01;34mvideocr\u001b[0m/\n"
          ]
        }
      ]
    },
    {
      "cell_type": "code",
      "source": [
        "!python example.py"
      ],
      "metadata": {
        "id": "wAqFHUMD6X1l",
        "outputId": "867e78ae-b18c-44e6-ca69-2b0e7140b5ef",
        "colab": {
          "base_uri": "https://localhost:8080/"
        }
      },
      "execution_count": 8,
      "outputs": [
        {
          "output_type": "stream",
          "name": "stdout",
          "text": [
            "Loading assets/1.mp4\n",
            "Get the key point: 100% 303/303 [00:01<00:00, 207.96it/s]\n",
            "Extract content: 100% 4/4 [00:02<00:00,  1.60it/s]\n",
            "['0  00:00:04,458 -> 00:00:08,583 : 我要去杂货店买点东西\\n要我帮你买点牛奶吗？\\nIm going grocery shopping You want some\\nmilk？', \"1  00:00:05,083 -> 00:00:12,583 : 一个还是两个？\\n是两个\\n对吧？\\nOne\\nquartortwo？It'stwo，right？\"]\n"
          ]
        }
      ]
    }
  ]
}