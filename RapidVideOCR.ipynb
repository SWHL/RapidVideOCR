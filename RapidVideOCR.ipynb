{
  "nbformat": 4,
  "nbformat_minor": 0,
  "metadata": {
    "colab": {
      "name": "RapidVideOCR.ipynb",
      "provenance": [],
      "collapsed_sections": [],
      "mount_file_id": "1AvXwKUZxEb3az5XWlZhC1sAKJO-79Wgh",
      "authorship_tag": "ABX9TyPfHiRJh2IsF9O42mWdIs7F",
      "include_colab_link": true
    },
    "kernelspec": {
      "name": "python3",
      "display_name": "Python 3"
    },
    "language_info": {
      "name": "python"
    }
  },
  "cells": [
    {
      "cell_type": "markdown",
      "metadata": {
        "id": "view-in-github",
        "colab_type": "text"
      },
      "source": [
        "<a href=\"https://colab.research.google.com/github/SWHL/RapidVideOCR/blob/main/RapidVideOCR.ipynb\" target=\"_parent\"><img src=\"https://colab.research.google.com/assets/colab-badge.svg\" alt=\"Open In Colab\"/></a>"
      ]
    },
    {
      "cell_type": "markdown",
      "source": [
        "\n",
        "# RapidVideOCR Demo\n",
        "\n"
      ],
      "metadata": {
        "id": "tKHLt2zchRwL"
      }
    },
    {
      "cell_type": "markdown",
      "source": [
        "### Set up"
      ],
      "metadata": {
        "id": "mmo4GpZhunh7"
      }
    },
    {
      "cell_type": "code",
      "source": [
        "!git clone https://github.com/SWHL/RapidVideOCR.git\n",
        "%cd RapidVideOCR"
      ],
      "metadata": {
        "id": "_GASq6EAufg0",
        "outputId": "40f31f47-4ee8-45b6-947b-2b5415f167a3",
        "colab": {
          "base_uri": "https://localhost:8080/"
        }
      },
      "execution_count": 1,
      "outputs": [
        {
          "output_type": "stream",
          "name": "stdout",
          "text": [
            "Cloning into 'RapidVideOCR'...\n",
            "remote: Enumerating objects: 347, done.\u001b[K\n",
            "remote: Counting objects: 100% (347/347), done.\u001b[K\n",
            "remote: Compressing objects: 100% (278/278), done.\u001b[K\n",
            "remote: Total 347 (delta 184), reused 193 (delta 66), pack-reused 0\u001b[K\n",
            "Receiving objects: 100% (347/347), 8.82 MiB | 8.08 MiB/s, done.\n",
            "Resolving deltas: 100% (184/184), done.\n",
            "/content/RapidVideOCR\n"
          ]
        }
      ]
    },
    {
      "cell_type": "code",
      "source": [
        "%rm -r resources/models\n",
        "!wget --no-check-certificate \"https://drive.google.com/uc?export=download&id=14PO7NUxi2XC6Sc_iKrX-E3BLVyaiocyv\" -O models.zip\n",
        "!mv models.zip resources/"
      ],
      "metadata": {
        "id": "qaOdxcrJvHUM",
        "outputId": "ce5de9ae-d695-451a-c3f6-58b57c90aea4",
        "colab": {
          "base_uri": "https://localhost:8080/"
        }
      },
      "execution_count": 2,
      "outputs": [
        {
          "output_type": "stream",
          "name": "stdout",
          "text": [
            "--2021-12-12 13:08:48--  https://drive.google.com/uc?export=download&id=14PO7NUxi2XC6Sc_iKrX-E3BLVyaiocyv\n",
            "Resolving drive.google.com (drive.google.com)... 74.125.203.138, 74.125.203.101, 74.125.203.100, ...\n",
            "Connecting to drive.google.com (drive.google.com)|74.125.203.138|:443... connected.\n",
            "HTTP request sent, awaiting response... 302 Moved Temporarily\n",
            "Location: https://doc-04-3s-docs.googleusercontent.com/docs/securesc/ha0ro937gcuc7l7deffksulhg5h7mbp1/q78ljekmt941nvtbojsrop158mdd805g/1639314525000/10158993189489619361/*/14PO7NUxi2XC6Sc_iKrX-E3BLVyaiocyv?e=download [following]\n",
            "Warning: wildcards not supported in HTTP.\n",
            "--2021-12-12 13:08:50--  https://doc-04-3s-docs.googleusercontent.com/docs/securesc/ha0ro937gcuc7l7deffksulhg5h7mbp1/q78ljekmt941nvtbojsrop158mdd805g/1639314525000/10158993189489619361/*/14PO7NUxi2XC6Sc_iKrX-E3BLVyaiocyv?e=download\n",
            "Resolving doc-04-3s-docs.googleusercontent.com (doc-04-3s-docs.googleusercontent.com)... 74.125.204.132, 2404:6800:4008:c04::84\n",
            "Connecting to doc-04-3s-docs.googleusercontent.com (doc-04-3s-docs.googleusercontent.com)|74.125.204.132|:443... connected.\n",
            "HTTP request sent, awaiting response... 200 OK\n",
            "Length: 6539740 (6.2M) [application/x-zip-compressed]\n",
            "Saving to: ‘models.zip’\n",
            "\n",
            "models.zip          100%[===================>]   6.24M  --.-KB/s    in 0.1s    \n",
            "\n",
            "2021-12-12 13:08:50 (65.0 MB/s) - ‘models.zip’ saved [6539740/6539740]\n",
            "\n"
          ]
        }
      ]
    },
    {
      "cell_type": "code",
      "source": [
        "!unzip resources/models.zip\n",
        "!rm resources/models.zip\n",
        "!mv models resources/"
      ],
      "metadata": {
        "colab": {
          "base_uri": "https://localhost:8080/"
        },
        "id": "FzcawYe3valv",
        "outputId": "5c8848ed-6c25-4453-af98-9280f6eafd61"
      },
      "execution_count": 3,
      "outputs": [
        {
          "output_type": "stream",
          "name": "stdout",
          "text": [
            "Archive:  resources/models.zip\n",
            "   creating: models/\n",
            "  inflating: models/ch_mobile_v2.0_rec_infer.onnx  \n",
            "  inflating: models/ch_PP-OCRv2_det_infer.onnx  \n",
            "  inflating: models/ch_ppocr_mobile_v2.0_cls_infer.onnx  \n",
            " extracting: models/placeholder      \n"
          ]
        }
      ]
    },
    {
      "cell_type": "code",
      "source": [
        "!pip install -r requirements.txt"
      ],
      "metadata": {
        "colab": {
          "base_uri": "https://localhost:8080/"
        },
        "id": "aKOo-zaH2WmW",
        "outputId": "3f084dc8-a860-4f6d-c1ef-4ffa2a8beede"
      },
      "execution_count": 4,
      "outputs": [
        {
          "output_type": "stream",
          "name": "stdout",
          "text": [
            "Collecting onnxruntime==1.7.0\n",
            "  Downloading onnxruntime-1.7.0-cp37-cp37m-manylinux2014_x86_64.whl (4.1 MB)\n",
            "\u001b[K     |████████████████████████████████| 4.1 MB 4.2 MB/s \n",
            "\u001b[?25hRequirement already satisfied: six==1.15.0 in /usr/local/lib/python3.7/dist-packages (from -r requirements.txt (line 2)) (1.15.0)\n",
            "Requirement already satisfied: numpy==1.19.5 in /usr/local/lib/python3.7/dist-packages (from -r requirements.txt (line 3)) (1.19.5)\n",
            "Collecting tqdm==4.52.0\n",
            "  Downloading tqdm-4.52.0-py2.py3-none-any.whl (71 kB)\n",
            "\u001b[K     |████████████████████████████████| 71 kB 7.8 MB/s \n",
            "\u001b[?25hCollecting pyclipper==1.2.1\n",
            "  Downloading pyclipper-1.2.1-cp37-cp37m-manylinux1_x86_64.whl (126 kB)\n",
            "\u001b[K     |████████████████████████████████| 126 kB 69.6 MB/s \n",
            "\u001b[?25hCollecting decord==0.6.0\n",
            "\u001b[33m  WARNING: Retrying (Retry(total=4, connect=None, read=None, redirect=None, status=None)) after connection broken by 'ReadTimeoutError(\"HTTPSConnectionPool(host='files.pythonhosted.org', port=443): Read timed out. (read timeout=15)\")': /packages/11/79/936af42edf90a7bd4e41a6cac89c913d4b47fa48a26b042d5129a9242ee3/decord-0.6.0-py3-none-manylinux2010_x86_64.whl\u001b[0m\n",
            "\u001b[33m  WARNING: Retrying (Retry(total=3, connect=None, read=None, redirect=None, status=None)) after connection broken by 'ReadTimeoutError(\"HTTPSConnectionPool(host='files.pythonhosted.org', port=443): Read timed out. (read timeout=15)\")': /packages/11/79/936af42edf90a7bd4e41a6cac89c913d4b47fa48a26b042d5129a9242ee3/decord-0.6.0-py3-none-manylinux2010_x86_64.whl\u001b[0m\n",
            "\u001b[33m  WARNING: Retrying (Retry(total=2, connect=None, read=None, redirect=None, status=None)) after connection broken by 'ReadTimeoutError(\"HTTPSConnectionPool(host='files.pythonhosted.org', port=443): Read timed out. (read timeout=15)\")': /packages/11/79/936af42edf90a7bd4e41a6cac89c913d4b47fa48a26b042d5129a9242ee3/decord-0.6.0-py3-none-manylinux2010_x86_64.whl\u001b[0m\n",
            "\u001b[33m  WARNING: Retrying (Retry(total=1, connect=None, read=None, redirect=None, status=None)) after connection broken by 'ReadTimeoutError(\"HTTPSConnectionPool(host='files.pythonhosted.org', port=443): Read timed out. (read timeout=15)\")': /packages/11/79/936af42edf90a7bd4e41a6cac89c913d4b47fa48a26b042d5129a9242ee3/decord-0.6.0-py3-none-manylinux2010_x86_64.whl\u001b[0m\n",
            "\u001b[33m  WARNING: Retrying (Retry(total=0, connect=None, read=None, redirect=None, status=None)) after connection broken by 'ReadTimeoutError(\"HTTPSConnectionPool(host='files.pythonhosted.org', port=443): Read timed out. (read timeout=15)\")': /packages/11/79/936af42edf90a7bd4e41a6cac89c913d4b47fa48a26b042d5129a9242ee3/decord-0.6.0-py3-none-manylinux2010_x86_64.whl\u001b[0m\n",
            "  Downloading decord-0.6.0-py3-none-manylinux2010_x86_64.whl (13.6 MB)\n",
            "\u001b[K     |████████████████████████████████| 13.6 MB 4.0 MB/s \n",
            "\u001b[?25hCollecting Shapely==1.7.1\n",
            "  Downloading Shapely-1.7.1-cp37-cp37m-manylinux1_x86_64.whl (1.0 MB)\n",
            "\u001b[K     |████████████████████████████████| 1.0 MB 58.0 MB/s \n",
            "\u001b[?25hCollecting opencv_python==4.5.1.48\n",
            "  Downloading opencv_python-4.5.1.48-cp37-cp37m-manylinux2014_x86_64.whl (50.4 MB)\n",
            "\u001b[K     |████████████████████████████████| 50.4 MB 51 kB/s \n",
            "\u001b[?25hCollecting python-docx==0.8.10\n",
            "  Downloading python-docx-0.8.10.tar.gz (5.5 MB)\n",
            "\u001b[K     |████████████████████████████████| 5.5 MB 12.3 MB/s \n",
            "\u001b[?25hRequirement already satisfied: protobuf in /usr/local/lib/python3.7/dist-packages (from onnxruntime==1.7.0->-r requirements.txt (line 1)) (3.17.3)\n",
            "Requirement already satisfied: lxml>=2.3.2 in /usr/local/lib/python3.7/dist-packages (from python-docx==0.8.10->-r requirements.txt (line 9)) (4.2.6)\n",
            "Building wheels for collected packages: python-docx\n",
            "  Building wheel for python-docx (setup.py) ... \u001b[?25l\u001b[?25hdone\n",
            "  Created wheel for python-docx: filename=python_docx-0.8.10-py3-none-any.whl size=184397 sha256=8c33865dc17604de0d502062ad6af884273aefd7b7c8af685eb8c034f6890d02\n",
            "  Stored in directory: /root/.cache/pip/wheels/75/c6/69/05491f32dc052cd70476b65f5bf7082a9b274045f6b001b821\n",
            "Successfully built python-docx\n",
            "Installing collected packages: tqdm, Shapely, python-docx, pyclipper, opencv-python, onnxruntime, decord\n",
            "  Attempting uninstall: tqdm\n",
            "    Found existing installation: tqdm 4.62.3\n",
            "    Uninstalling tqdm-4.62.3:\n",
            "      Successfully uninstalled tqdm-4.62.3\n",
            "  Attempting uninstall: Shapely\n",
            "    Found existing installation: Shapely 1.8.0\n",
            "    Uninstalling Shapely-1.8.0:\n",
            "      Successfully uninstalled Shapely-1.8.0\n",
            "  Attempting uninstall: opencv-python\n",
            "    Found existing installation: opencv-python 4.1.2.30\n",
            "    Uninstalling opencv-python-4.1.2.30:\n",
            "      Successfully uninstalled opencv-python-4.1.2.30\n",
            "\u001b[31mERROR: pip's dependency resolver does not currently take into account all the packages that are installed. This behaviour is the source of the following dependency conflicts.\n",
            "albumentations 0.1.12 requires imgaug<0.2.7,>=0.2.5, but you have imgaug 0.2.9 which is incompatible.\u001b[0m\n",
            "Successfully installed Shapely-1.7.1 decord-0.6.0 onnxruntime-1.7.0 opencv-python-4.5.1.48 pyclipper-1.2.1 python-docx-0.8.10 tqdm-4.52.0\n"
          ]
        }
      ]
    },
    {
      "cell_type": "markdown",
      "source": [
        "### Run the demo"
      ],
      "metadata": {
        "id": "2CKQ63hC_FKN"
      }
    },
    {
      "cell_type": "code",
      "source": [
        "!python main.py"
      ],
      "metadata": {
        "id": "wAqFHUMD6X1l",
        "outputId": "15671fb5-44a4-4f82-ad38-4dbb8d7a323c",
        "colab": {
          "base_uri": "https://localhost:8080/"
        }
      },
      "execution_count": 7,
      "outputs": [
        {
          "output_type": "stream",
          "name": "stdout",
          "text": [
            "Loading assets/test_video/2.mp4\n",
            "Get the key point: 100% 71/71 [00:02<00:00, 26.11it/s]\n",
            "Extract content: 100% 4/4 [00:03<00:00,  1.30it/s]\n",
            "The srt has been saved in the assets/test_video/2.srt.\n",
            "The txt has been saved in the assets/test_video/2.txt.\n",
            "The docx has been saved in the assets/test_video/2.docx.\n"
          ]
        }
      ]
    }
  ]
}