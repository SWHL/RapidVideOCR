{
  "nbformat": 4,
  "nbformat_minor": 0,
  "metadata": {
    "colab": {
      "name": "RapidVideOCR.ipynb",
      "provenance": [],
      "collapsed_sections": [],
      "mount_file_id": "1AvXwKUZxEb3az5XWlZhC1sAKJO-79Wgh",
      "authorship_tag": "ABX9TyP7Hd5tb59VSS4TOsNiWouW",
      "include_colab_link": true
    },
    "kernelspec": {
      "name": "python3",
      "display_name": "Python 3"
    },
    "language_info": {
      "name": "python"
    }
  },
  "cells": [
    {
      "cell_type": "markdown",
      "metadata": {
        "id": "view-in-github",
        "colab_type": "text"
      },
      "source": [
        "<a href=\"https://colab.research.google.com/github/SWHL/RapidVideOCR/blob/main/RapidVideOCR.ipynb\" target=\"_parent\"><img src=\"https://colab.research.google.com/assets/colab-badge.svg\" alt=\"Open In Colab\"/></a>"
      ]
    },
    {
      "cell_type": "markdown",
      "source": [
        "\n",
        "# RapidVideOCR Demo\n",
        "\n"
      ],
      "metadata": {
        "id": "tKHLt2zchRwL"
      }
    },
    {
      "cell_type": "code",
      "source": [
        "import os\n",
        "os.chdir('drive/MyDrive/RapidVideOCRDemo')"
      ],
      "metadata": {
        "id": "42LN_SgqhqM0"
      },
      "execution_count": 1,
      "outputs": []
    },
    {
      "cell_type": "code",
      "source": [
        "ls"
      ],
      "metadata": {
        "colab": {
          "base_uri": "https://localhost:8080/"
        },
        "id": "JQ1GI8UNq6d-",
        "outputId": "b59e7341-f256-429f-f240-b5ba513f482d"
      },
      "execution_count": 2,
      "outputs": [
        {
          "output_type": "stream",
          "name": "stdout",
          "text": [
            "\u001b[0m\u001b[01;34massets\u001b[0m/     \u001b[01;34mrapidocr\u001b[0m/           requirements.txt  \u001b[01;34mtemp\u001b[0m/\n",
            "example.py  RapidVideOCR.ipynb  \u001b[01;34mresources\u001b[0m/        test_time_demo.py\n",
            "LICENSE     README.md           result.txt        \u001b[01;34mvideocr\u001b[0m/\n"
          ]
        }
      ]
    },
    {
      "cell_type": "code",
      "source": [
        "!pip install -r requirements.txt -i https://pypi.douban.com/simple/"
      ],
      "metadata": {
        "colab": {
          "base_uri": "https://localhost:8080/"
        },
        "id": "oJ1MbpOCsIFV",
        "outputId": "df5eb2d5-d25c-4472-a1a8-7344c887f633"
      },
      "execution_count": 3,
      "outputs": [
        {
          "output_type": "stream",
          "name": "stdout",
          "text": [
            "Looking in indexes: https://pypi.douban.com/simple/\n",
            "Requirement already satisfied: onnxruntime==1.7.0 in /usr/local/lib/python3.7/dist-packages (from -r requirements.txt (line 1)) (1.7.0)\n",
            "Requirement already satisfied: six==1.15.0 in /usr/local/lib/python3.7/dist-packages (from -r requirements.txt (line 2)) (1.15.0)\n",
            "Requirement already satisfied: numpy==1.19.5 in /usr/local/lib/python3.7/dist-packages (from -r requirements.txt (line 3)) (1.19.5)\n",
            "Requirement already satisfied: tqdm==4.52.0 in /usr/local/lib/python3.7/dist-packages (from -r requirements.txt (line 4)) (4.52.0)\n",
            "Requirement already satisfied: pyclipper==1.2.1 in /usr/local/lib/python3.7/dist-packages (from -r requirements.txt (line 5)) (1.2.1)\n",
            "Requirement already satisfied: decord==0.6.0 in /usr/local/lib/python3.7/dist-packages (from -r requirements.txt (line 6)) (0.6.0)\n",
            "Requirement already satisfied: Shapely==1.7.1 in /usr/local/lib/python3.7/dist-packages (from -r requirements.txt (line 7)) (1.7.1)\n",
            "Requirement already satisfied: opencv_python==4.5.1.48 in /usr/local/lib/python3.7/dist-packages (from -r requirements.txt (line 8)) (4.5.1.48)\n",
            "Requirement already satisfied: protobuf in /usr/local/lib/python3.7/dist-packages (from onnxruntime==1.7.0->-r requirements.txt (line 1)) (3.17.3)\n"
          ]
        }
      ]
    },
    {
      "cell_type": "code",
      "source": [
        "!python example.py"
      ],
      "metadata": {
        "colab": {
          "base_uri": "https://localhost:8080/"
        },
        "id": "lymQIObzsLll",
        "outputId": "a6429359-1f21-4a31-db96-714db9520774"
      },
      "execution_count": 5,
      "outputs": [
        {
          "output_type": "stream",
          "name": "stdout",
          "text": [
            "Loading assets/1.mp4\n",
            "Get the key point: 100% 303/303 [00:01<00:00, 172.53it/s]\n",
            "Extract content: 100% 4/4 [00:02<00:00,  1.36it/s]\n",
            "['0  00:00:04,458 -> 00:00:08,583 : 我要去杂货店买点东西\\n要我帮你买点牛奶吗？\\nIm going grocery shopping You want some\\nmilk？', \"1  00:00:05,083 -> 00:00:12,583 : 一个还是两个？\\n是两个\\n对吧？\\nOne\\nquartortwo？It'stwo，right？\"]\n"
          ]
        }
      ]
    }
  ]
}